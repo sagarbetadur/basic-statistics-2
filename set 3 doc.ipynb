{
 "cells": [
  {
   "cell_type": "markdown",
   "id": "80242d09",
   "metadata": {},
   "source": [
    "# Q5"
   ]
  },
  {
   "cell_type": "code",
   "execution_count": 1,
   "id": "98e2bbe4",
   "metadata": {},
   "outputs": [],
   "source": [
    "import numpy as np \n",
    "import scipy\n",
    "from scipy import stats"
   ]
  },
  {
   "cell_type": "code",
   "execution_count": 2,
   "id": "ae9601ee",
   "metadata": {},
   "outputs": [],
   "source": [
    "## null hypothesis shares are more than 5% alternative hypothesis is:-mozilla shares are less than 5%"
   ]
  },
  {
   "cell_type": "code",
   "execution_count": 4,
   "id": "68f0e0f5",
   "metadata": {},
   "outputs": [
    {
     "data": {
      "text/plain": [
       "0.20588503245107104"
      ]
     },
     "execution_count": 4,
     "metadata": {},
     "output_type": "execute_result"
    }
   ],
   "source": [
    "z_score=(0.046-0.05)/(np.sqrt((0.05*(1-0.05))/2000))\n",
    "p_value=1-stats.norm.cdf(abs(z_score))\n",
    "p_value"
   ]
  },
  {
   "cell_type": "code",
   "execution_count": null,
   "id": "5375621c",
   "metadata": {},
   "outputs": [],
   "source": []
  }
 ],
 "metadata": {
  "kernelspec": {
   "display_name": "Python 3 (ipykernel)",
   "language": "python",
   "name": "python3"
  },
  "language_info": {
   "codemirror_mode": {
    "name": "ipython",
    "version": 3
   },
   "file_extension": ".py",
   "mimetype": "text/x-python",
   "name": "python",
   "nbconvert_exporter": "python",
   "pygments_lexer": "ipython3",
   "version": "3.9.13"
  }
 },
 "nbformat": 4,
 "nbformat_minor": 5
}
