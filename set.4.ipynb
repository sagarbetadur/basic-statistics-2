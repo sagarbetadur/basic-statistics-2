{
 "cells": [
  {
   "cell_type": "markdown",
   "id": "b56ec557",
   "metadata": {},
   "source": [
    "# Q3"
   ]
  },
  {
   "cell_type": "code",
   "execution_count": 37,
   "id": "3b02d94b",
   "metadata": {},
   "outputs": [],
   "source": [
    "import numpy as np\n"
   ]
  },
  {
   "cell_type": "code",
   "execution_count": 38,
   "id": "5288e8fe",
   "metadata": {},
   "outputs": [],
   "source": [
    "pop_mean=50\n",
    "pop_SD =40\n",
    "n=100"
   ]
  },
  {
   "cell_type": "code",
   "execution_count": 39,
   "id": "6bf72808",
   "metadata": {},
   "outputs": [],
   "source": [
    "# Z-score at X=45 and X=55\n",
    "z45=(45-pop_mean)/(pop_SD/np.sqrt(n))\n",
    "z55=(55-pop_mean)/(pop_SD/np.sqrt(n))"
   ]
  },
  {
   "cell_type": "code",
   "execution_count": 40,
   "id": "44cbc6a3",
   "metadata": {},
   "outputs": [
    {
     "name": "stdout",
     "output_type": "stream",
     "text": [
      "-1.25\n"
     ]
    }
   ],
   "source": [
    "print(z45)"
   ]
  },
  {
   "cell_type": "code",
   "execution_count": 41,
   "id": "c27f6eb6",
   "metadata": {},
   "outputs": [
    {
     "name": "stdout",
     "output_type": "stream",
     "text": [
      "1.25\n"
     ]
    }
   ],
   "source": [
    "print(z55)"
   ]
  },
  {
   "cell_type": "code",
   "execution_count": 42,
   "id": "1037839a",
   "metadata": {},
   "outputs": [
    {
     "name": "stdout",
     "output_type": "stream",
     "text": [
      "z-score at x=45 is : -1.25\n"
     ]
    }
   ],
   "source": [
    "print('z-score at x=45 is :',np.round(z45,3))"
   ]
  },
  {
   "cell_type": "code",
   "execution_count": 43,
   "id": "d8346685",
   "metadata": {},
   "outputs": [
    {
     "name": "stdout",
     "output_type": "stream",
     "text": [
      "z-score at x=55 is : 1.25\n"
     ]
    }
   ],
   "source": [
    "print('z-score at x=55 is :',np.round(z55,3))"
   ]
  },
  {
   "cell_type": "code",
   "execution_count": 44,
   "id": "b6c403e3",
   "metadata": {},
   "outputs": [],
   "source": [
    "from scipy import stats "
   ]
  },
  {
   "cell_type": "code",
   "execution_count": 45,
   "id": "8371669c",
   "metadata": {},
   "outputs": [],
   "source": [
    "# For No investigation P(45&lt;X&lt;55)"
   ]
  },
  {
   "cell_type": "code",
   "execution_count": 46,
   "id": "203bf2c6",
   "metadata": {},
   "outputs": [],
   "source": [
    "prob1=stats.norm.cdf(1.25)-stats.norm.cdf(-1.25)"
   ]
  },
  {
   "cell_type": "code",
   "execution_count": 47,
   "id": "af4bcc49",
   "metadata": {},
   "outputs": [],
   "source": [
    "# For investigation"
   ]
  },
  {
   "cell_type": "code",
   "execution_count": 48,
   "id": "70e6fc2f",
   "metadata": {},
   "outputs": [],
   "source": [
    "prob2=1-prob1"
   ]
  },
  {
   "cell_type": "code",
   "execution_count": 49,
   "id": "da552e0a",
   "metadata": {},
   "outputs": [
    {
     "name": "stdout",
     "output_type": "stream",
     "text": [
      "0.2112995473337107\n"
     ]
    }
   ],
   "source": [
    "print(prob2)"
   ]
  },
  {
   "cell_type": "code",
   "execution_count": null,
   "id": "a8e54532",
   "metadata": {},
   "outputs": [],
   "source": []
  },
  {
   "cell_type": "code",
   "execution_count": null,
   "id": "b9f1b10d",
   "metadata": {},
   "outputs": [],
   "source": []
  }
 ],
 "metadata": {
  "kernelspec": {
   "display_name": "Python 3 (ipykernel)",
   "language": "python",
   "name": "python3"
  },
  "language_info": {
   "codemirror_mode": {
    "name": "ipython",
    "version": 3
   },
   "file_extension": ".py",
   "mimetype": "text/x-python",
   "name": "python",
   "nbconvert_exporter": "python",
   "pygments_lexer": "ipython3",
   "version": "3.9.13"
  }
 },
 "nbformat": 4,
 "nbformat_minor": 5
}
