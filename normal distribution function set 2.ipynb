{
 "cells": [
  {
   "cell_type": "markdown",
   "id": "04251008",
   "metadata": {},
   "source": [
    "# Q1"
   ]
  },
  {
   "cell_type": "code",
   "execution_count": 6,
   "id": "2ba287da",
   "metadata": {},
   "outputs": [],
   "source": [
    "from scipy import stats\n"
   ]
  },
  {
   "cell_type": "code",
   "execution_count": 7,
   "id": "55276d8c",
   "metadata": {},
   "outputs": [
    {
     "data": {
      "text/plain": [
       "0.7340144709512995"
      ]
     },
     "execution_count": 7,
     "metadata": {},
     "output_type": "execute_result"
    }
   ],
   "source": [
    "# probability of car will be ready within 1hr\n",
    "stats.norm.cdf(50,loc = 45,scale =8)"
   ]
  },
  {
   "cell_type": "code",
   "execution_count": 8,
   "id": "fc5cae27",
   "metadata": {},
   "outputs": [
    {
     "data": {
      "text/plain": [
       "0.26598552904870054"
      ]
     },
     "execution_count": 8,
     "metadata": {},
     "output_type": "execute_result"
    }
   ],
   "source": [
    "# probability of car will not be ready within 1hr\n",
    "1-stats.norm.cdf(50,loc=45,scale=8)"
   ]
  },
  {
   "cell_type": "markdown",
   "id": "27e73e3b",
   "metadata": {},
   "source": [
    "\n",
    "\n",
    "# Q2"
   ]
  },
  {
   "cell_type": "code",
   "execution_count": 9,
   "id": "f94fd56d",
   "metadata": {},
   "outputs": [
    {
     "data": {
      "text/plain": [
       "0.15865525393145707"
      ]
     },
     "execution_count": 9,
     "metadata": {},
     "output_type": "execute_result"
    }
   ],
   "source": [
    "#probability of employees older than  44\n",
    "1-stats.norm.cdf(44,loc = 38, scale= 6)"
   ]
  },
  {
   "cell_type": "code",
   "execution_count": 10,
   "id": "ec87ca8d",
   "metadata": {},
   "outputs": [],
   "source": [
    "#probability of employees between 38 and 44 "
   ]
  },
  {
   "cell_type": "code",
   "execution_count": 11,
   "id": "4f8c1d81",
   "metadata": {},
   "outputs": [
    {
     "data": {
      "text/plain": [
       "0.3413447460685429"
      ]
     },
     "execution_count": 11,
     "metadata": {},
     "output_type": "execute_result"
    }
   ],
   "source": [
    "\n",
    "prob=stats.norm.cdf(44,loc=38,scale=6)-stats.norm.cdf(38,loc=38,scale=6)\n",
    "prob"
   ]
  },
  {
   "cell_type": "code",
   "execution_count": 12,
   "id": "e77a933c",
   "metadata": {},
   "outputs": [],
   "source": [
    "#B"
   ]
  },
  {
   "cell_type": "code",
   "execution_count": 13,
   "id": "fd079aea",
   "metadata": {},
   "outputs": [],
   "source": [
    "#probability of training employees  are under 30 "
   ]
  },
  {
   "cell_type": "code",
   "execution_count": 14,
   "id": "653f5670",
   "metadata": {},
   "outputs": [
    {
     "data": {
      "text/plain": [
       "0.09121121972586788"
      ]
     },
     "execution_count": 14,
     "metadata": {},
     "output_type": "execute_result"
    }
   ],
   "source": [
    "stats.norm.cdf(30,loc=38,scale=6)"
   ]
  },
  {
   "cell_type": "markdown",
   "id": "e90f6fbd",
   "metadata": {},
   "source": [
    "# Q4"
   ]
  },
  {
   "cell_type": "code",
   "execution_count": 15,
   "id": "ade7c82f",
   "metadata": {},
   "outputs": [],
   "source": [
    "import numpy as np"
   ]
  },
  {
   "cell_type": "code",
   "execution_count": 16,
   "id": "a8c23a95",
   "metadata": {},
   "outputs": [],
   "source": [
    "# probability of getting value between a and b is 0.99\n",
    "# not getting between a and b =1-0.99 =0.01\n",
    "# area of left of a = area of right of b =0.005"
   ]
  },
  {
   "cell_type": "code",
   "execution_count": 17,
   "id": "4f76d9e1",
   "metadata": {},
   "outputs": [
    {
     "name": "stdout",
     "output_type": "stream",
     "text": [
      "-2.576\n"
     ]
    }
   ],
   "source": [
    "z_score_a=stats.norm.ppf(0.005,loc=0,scale=1)\n",
    "z_score_a=np.round(z_score_a,3)\n",
    "print(z_score_a)"
   ]
  },
  {
   "cell_type": "code",
   "execution_count": 18,
   "id": "f33ad2ce",
   "metadata": {},
   "outputs": [],
   "source": [
    "# so probability of b will be +2.576"
   ]
  },
  {
   "cell_type": "code",
   "execution_count": 19,
   "id": "c30abb5f",
   "metadata": {},
   "outputs": [
    {
     "name": "stdout",
     "output_type": "stream",
     "text": [
      "48.48 151.52\n"
     ]
    }
   ],
   "source": [
    "z_score_b=2.576\n",
    "u=100\n",
    "s=20\n",
    "a=z_score_a*s+u\n",
    "b=z_score_b*s+u\n",
    "print(a,b)"
   ]
  },
  {
   "cell_type": "markdown",
   "id": "85201a92",
   "metadata": {},
   "source": [
    "# Q5"
   ]
  },
  {
   "cell_type": "code",
   "execution_count": 20,
   "id": "87c69a95",
   "metadata": {},
   "outputs": [],
   "source": [
    "#profit1=(5,3^2)\n",
    "#profit2=(7,4^2)\n",
    "# overall profit = (12,25)"
   ]
  },
  {
   "cell_type": "code",
   "execution_count": 21,
   "id": "a6de81a1",
   "metadata": {},
   "outputs": [],
   "source": [
    "mean=12\n",
    "sd=5\n",
    "mean_rs=12*45\n",
    "sd_rs=5*45"
   ]
  },
  {
   "cell_type": "code",
   "execution_count": 22,
   "id": "c7a052e6",
   "metadata": {},
   "outputs": [
    {
     "name": "stdout",
     "output_type": "stream",
     "text": [
      "540\n"
     ]
    }
   ],
   "source": [
    "print(mean_rs)"
   ]
  },
  {
   "cell_type": "code",
   "execution_count": 23,
   "id": "ce5dff1b",
   "metadata": {},
   "outputs": [
    {
     "name": "stdout",
     "output_type": "stream",
     "text": [
      "225\n"
     ]
    }
   ],
   "source": [
    "print(sd_rs)"
   ]
  },
  {
   "cell_type": "code",
   "execution_count": 24,
   "id": "f4ff9e00",
   "metadata": {},
   "outputs": [
    {
     "data": {
      "text/plain": [
       "(99.00810347848784, 980.9918965215122)"
      ]
     },
     "execution_count": 24,
     "metadata": {},
     "output_type": "execute_result"
    }
   ],
   "source": [
    "stats.norm.interval(0.95,540,225)"
   ]
  },
  {
   "cell_type": "code",
   "execution_count": 25,
   "id": "1ea5e955",
   "metadata": {},
   "outputs": [],
   "source": [
    "#b"
   ]
  },
  {
   "cell_type": "code",
   "execution_count": 26,
   "id": "c5b89297",
   "metadata": {},
   "outputs": [
    {
     "data": {
      "text/plain": [
       "-1.6448536269514729"
      ]
     },
     "execution_count": 26,
     "metadata": {},
     "output_type": "execute_result"
    }
   ],
   "source": [
    "stats.norm.ppf(0.05,loc=0,scale=1)"
   ]
  },
  {
   "cell_type": "code",
   "execution_count": 28,
   "id": "546066cc",
   "metadata": {},
   "outputs": [
    {
     "name": "stdout",
     "output_type": "stream",
     "text": [
      "168.75\n"
     ]
    }
   ],
   "source": [
    "z=-1.65\n",
    "fifth_percentile=z*sd_rs+mean_rs\n",
    "print(fifth_percentile)"
   ]
  },
  {
   "cell_type": "code",
   "execution_count": 29,
   "id": "8b162558",
   "metadata": {},
   "outputs": [],
   "source": [
    "#c"
   ]
  },
  {
   "cell_type": "code",
   "execution_count": 30,
   "id": "608ae1a9",
   "metadata": {},
   "outputs": [
    {
     "data": {
      "text/plain": [
       "0.0477903522728147"
      ]
     },
     "execution_count": 30,
     "metadata": {},
     "output_type": "execute_result"
    }
   ],
   "source": [
    "#probability of division1 making loss\n",
    "(stats.norm.cdf(0,loc=5,scale=3))"
   ]
  },
  {
   "cell_type": "code",
   "execution_count": 31,
   "id": "038a1c3f",
   "metadata": {},
   "outputs": [
    {
     "data": {
      "text/plain": [
       "0.040059156863817086"
      ]
     },
     "execution_count": 31,
     "metadata": {},
     "output_type": "execute_result"
    }
   ],
   "source": [
    "#probability of division2 making loss\n",
    "stats.norm.cdf(0,loc=7,scale=4)"
   ]
  },
  {
   "cell_type": "code",
   "execution_count": null,
   "id": "addd97dc",
   "metadata": {},
   "outputs": [],
   "source": []
  }
 ],
 "metadata": {
  "kernelspec": {
   "display_name": "Python 3 (ipykernel)",
   "language": "python",
   "name": "python3"
  },
  "language_info": {
   "codemirror_mode": {
    "name": "ipython",
    "version": 3
   },
   "file_extension": ".py",
   "mimetype": "text/x-python",
   "name": "python",
   "nbconvert_exporter": "python",
   "pygments_lexer": "ipython3",
   "version": "3.9.13"
  }
 },
 "nbformat": 4,
 "nbformat_minor": 5
}
